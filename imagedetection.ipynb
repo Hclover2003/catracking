{
 "cells": [
  {
   "attachments": {},
   "cell_type": "markdown",
   "metadata": {},
   "source": [
    "# Load Data + Imports"
   ]
  },
  {
   "cell_type": "code",
   "execution_count": 1,
   "metadata": {},
   "outputs": [
    {
     "name": "stderr",
     "output_type": "stream",
     "text": [
      "c:\\Users\\hozhang\\Desktop\\CaTracking\\huayin_unet_lstm\\.venv\\lib\\site-packages\\tqdm\\auto.py:21: TqdmWarning: IProgress not found. Please update jupyter and ipywidgets. See https://ipywidgets.readthedocs.io/en/stable/user_install.html\n",
      "  from .autonotebook import tqdm as notebook_tqdm\n"
     ]
    }
   ],
   "source": [
    "# import packages\n",
    "import os\n",
    "import cv2\n",
    "import numpy as np;\n",
    "import pandas as pd\n",
    "import random, tqdm\n",
    "import seaborn as sns\n",
    "import matplotlib.pyplot as plt\n",
    "import statsmodels.api as sm\n",
    "import statsmodels.formula.api as smf\n",
    "import torch \n",
    "import torch.nn as nn\n",
    "import torchvision.transforms.functional as TF\n",
    "import segmentation_models_pytorch as smp\n",
    "import albumentations as album\n",
    "\n",
    "from scipy import ndimage\n",
    "from typing import Tuple, List\n",
    "from scipy import stats\n",
    "from sklearn.model_selection import train_test_split\n",
    "from sklearn.linear_model import LinearRegression\n",
    "from sklearn.metrics import mean_squared_error\n",
    "from torch.utils.data import DataLoader\n",
    "imgs_dir = r\"C:\\Users\\hozhang\\Desktop\\CaTracking\\huayin_unet_lstm\\data\\imgs\"\n",
    "positions_dir = r\"C:\\Users\\hozhang\\Desktop\\CaTracking\\huayin_unet_lstm\\data\\positions\"\n",
    "# 11408 dataset\n",
    "imgs = np.load(rf'{imgs_dir}\\11408_crop.nd2.npy') \n",
    "ava = np.load(rf\"{positions_dir}\\AVA_11408.mat.npy\")\n",
    "avb = np.load(rf\"{positions_dir}\\AVB_11408.mat.npy\")\n",
    "# 11409 dataset\n",
    "imgs2 = np.load(rf'{imgs_dir}\\11409_crop.nd2.npy') \n",
    "ava2 = np.load(rf\"{positions_dir}\\AVA_11409.mat.npy\")\n",
    "avb2 = np.load(rf\"{positions_dir}\\AVB_11409.mat.npy\")"
   ]
  },
  {
   "attachments": {},
   "cell_type": "markdown",
   "metadata": {},
   "source": [
    "# Quantify Image Features"
   ]
  },
  {
   "cell_type": "code",
   "execution_count": null,
   "metadata": {},
   "outputs": [],
   "source": []
  }
 ],
 "metadata": {
  "kernelspec": {
   "display_name": ".venv",
   "language": "python",
   "name": "python3"
  },
  "language_info": {
   "codemirror_mode": {
    "name": "ipython",
    "version": 3
   },
   "file_extension": ".py",
   "mimetype": "text/x-python",
   "name": "python",
   "nbconvert_exporter": "python",
   "pygments_lexer": "ipython3",
   "version": "3.10.8"
  },
  "orig_nbformat": 4
 },
 "nbformat": 4,
 "nbformat_minor": 2
}
